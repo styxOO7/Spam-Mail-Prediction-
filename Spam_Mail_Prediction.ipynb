{
  "nbformat": 4,
  "nbformat_minor": 0,
  "metadata": {
    "colab": {
      "name": "Spam Mail Prediction.ipynb",
      "provenance": [],
      "toc_visible": true,
      "mount_file_id": "1ecSUFGEynsTABexpqWF_raa6JvBNyJj1",
      "authorship_tag": "ABX9TyOggGk4q9OKkOTGO8eiPm4N",
      "include_colab_link": true
    },
    "kernelspec": {
      "name": "python3",
      "display_name": "Python 3"
    },
    "language_info": {
      "name": "python"
    }
  },
  "cells": [
    {
      "cell_type": "markdown",
      "metadata": {
        "id": "view-in-github",
        "colab_type": "text"
      },
      "source": [
        "<a href=\"https://colab.research.google.com/github/styxOO7/Spam-Mail-Prediction-/blob/main/Spam_Mail_Prediction.ipynb\" target=\"_parent\"><img src=\"https://colab.research.google.com/assets/colab-badge.svg\" alt=\"Open In Colab\"/></a>"
      ]
    },
    {
      "cell_type": "markdown",
      "source": [
        "Importing the Dependencies"
      ],
      "metadata": {
        "id": "n6UpFw5FKyv9"
      }
    },
    {
      "cell_type": "code",
      "execution_count": 24,
      "metadata": {
        "id": "KtTR8MrwHPb6"
      },
      "outputs": [],
      "source": [
        "import numpy as np\n",
        "import pandas as pd\n",
        "import matplotlib.pyplot as plt\n",
        "from sklearn.model_selection import train_test_split\n",
        "from sklearn.feature_extraction.text import TfidfVectorizer\n",
        "# term frequency inverse document frequency vectorizer, it converts the given text into numbers \n",
        "from sklearn.linear_model import LogisticRegression\n",
        "from sklearn.metrics import accuracy_score"
      ]
    },
    {
      "cell_type": "markdown",
      "source": [
        "Data Collection & Pre-Processing"
      ],
      "metadata": {
        "id": "6mICjvSDK8Yv"
      }
    },
    {
      "cell_type": "code",
      "source": [
        "raw_mail_data = pd.read_csv(\"/content/drive/MyDrive/Colab Notebooks/csvs/mail_data.csv\")\n",
        "raw_mail_data.head(10)"
      ],
      "metadata": {
        "colab": {
          "base_uri": "https://localhost:8080/",
          "height": 363
        },
        "id": "CXBtodJxIxsD",
        "outputId": "237b9970-1a04-4a0f-de38-652847888035"
      },
      "execution_count": 25,
      "outputs": [
        {
          "output_type": "execute_result",
          "data": {
            "text/html": [
              "<div>\n",
              "<style scoped>\n",
              "    .dataframe tbody tr th:only-of-type {\n",
              "        vertical-align: middle;\n",
              "    }\n",
              "\n",
              "    .dataframe tbody tr th {\n",
              "        vertical-align: top;\n",
              "    }\n",
              "\n",
              "    .dataframe thead th {\n",
              "        text-align: right;\n",
              "    }\n",
              "</style>\n",
              "<table border=\"1\" class=\"dataframe\">\n",
              "  <thead>\n",
              "    <tr style=\"text-align: right;\">\n",
              "      <th></th>\n",
              "      <th>Category</th>\n",
              "      <th>Message</th>\n",
              "    </tr>\n",
              "  </thead>\n",
              "  <tbody>\n",
              "    <tr>\n",
              "      <th>0</th>\n",
              "      <td>ham</td>\n",
              "      <td>Go until jurong point, crazy.. Available only ...</td>\n",
              "    </tr>\n",
              "    <tr>\n",
              "      <th>1</th>\n",
              "      <td>ham</td>\n",
              "      <td>Ok lar... Joking wif u oni...</td>\n",
              "    </tr>\n",
              "    <tr>\n",
              "      <th>2</th>\n",
              "      <td>spam</td>\n",
              "      <td>Free entry in 2 a wkly comp to win FA Cup fina...</td>\n",
              "    </tr>\n",
              "    <tr>\n",
              "      <th>3</th>\n",
              "      <td>ham</td>\n",
              "      <td>U dun say so early hor... U c already then say...</td>\n",
              "    </tr>\n",
              "    <tr>\n",
              "      <th>4</th>\n",
              "      <td>ham</td>\n",
              "      <td>Nah I don't think he goes to usf, he lives aro...</td>\n",
              "    </tr>\n",
              "    <tr>\n",
              "      <th>5</th>\n",
              "      <td>spam</td>\n",
              "      <td>FreeMsg Hey there darling it's been 3 week's n...</td>\n",
              "    </tr>\n",
              "    <tr>\n",
              "      <th>6</th>\n",
              "      <td>ham</td>\n",
              "      <td>Even my brother is not like to speak with me. ...</td>\n",
              "    </tr>\n",
              "    <tr>\n",
              "      <th>7</th>\n",
              "      <td>ham</td>\n",
              "      <td>As per your request 'Melle Melle (Oru Minnamin...</td>\n",
              "    </tr>\n",
              "    <tr>\n",
              "      <th>8</th>\n",
              "      <td>spam</td>\n",
              "      <td>WINNER!! As a valued network customer you have...</td>\n",
              "    </tr>\n",
              "    <tr>\n",
              "      <th>9</th>\n",
              "      <td>spam</td>\n",
              "      <td>Had your mobile 11 months or more? U R entitle...</td>\n",
              "    </tr>\n",
              "  </tbody>\n",
              "</table>\n",
              "</div>"
            ],
            "text/plain": [
              "  Category                                            Message\n",
              "0      ham  Go until jurong point, crazy.. Available only ...\n",
              "1      ham                      Ok lar... Joking wif u oni...\n",
              "2     spam  Free entry in 2 a wkly comp to win FA Cup fina...\n",
              "3      ham  U dun say so early hor... U c already then say...\n",
              "4      ham  Nah I don't think he goes to usf, he lives aro...\n",
              "5     spam  FreeMsg Hey there darling it's been 3 week's n...\n",
              "6      ham  Even my brother is not like to speak with me. ...\n",
              "7      ham  As per your request 'Melle Melle (Oru Minnamin...\n",
              "8     spam  WINNER!! As a valued network customer you have...\n",
              "9     spam  Had your mobile 11 months or more? U R entitle..."
            ]
          },
          "metadata": {},
          "execution_count": 25
        }
      ]
    },
    {
      "cell_type": "code",
      "source": [
        "# raw_mail_data[['Message']].isna() --> provides boolean for the entires having NaN\n",
        "\n",
        "mail_data = raw_mail_data.where(pd.notnull(raw_mail_data), '')\n",
        "mail_data.head()"
      ],
      "metadata": {
        "colab": {
          "base_uri": "https://localhost:8080/",
          "height": 206
        },
        "id": "R9NRvuTMI4r_",
        "outputId": "8b6d6a7f-26f2-4817-d5ca-417a9f35d088"
      },
      "execution_count": 26,
      "outputs": [
        {
          "output_type": "execute_result",
          "data": {
            "text/html": [
              "<div>\n",
              "<style scoped>\n",
              "    .dataframe tbody tr th:only-of-type {\n",
              "        vertical-align: middle;\n",
              "    }\n",
              "\n",
              "    .dataframe tbody tr th {\n",
              "        vertical-align: top;\n",
              "    }\n",
              "\n",
              "    .dataframe thead th {\n",
              "        text-align: right;\n",
              "    }\n",
              "</style>\n",
              "<table border=\"1\" class=\"dataframe\">\n",
              "  <thead>\n",
              "    <tr style=\"text-align: right;\">\n",
              "      <th></th>\n",
              "      <th>Category</th>\n",
              "      <th>Message</th>\n",
              "    </tr>\n",
              "  </thead>\n",
              "  <tbody>\n",
              "    <tr>\n",
              "      <th>0</th>\n",
              "      <td>ham</td>\n",
              "      <td>Go until jurong point, crazy.. Available only ...</td>\n",
              "    </tr>\n",
              "    <tr>\n",
              "      <th>1</th>\n",
              "      <td>ham</td>\n",
              "      <td>Ok lar... Joking wif u oni...</td>\n",
              "    </tr>\n",
              "    <tr>\n",
              "      <th>2</th>\n",
              "      <td>spam</td>\n",
              "      <td>Free entry in 2 a wkly comp to win FA Cup fina...</td>\n",
              "    </tr>\n",
              "    <tr>\n",
              "      <th>3</th>\n",
              "      <td>ham</td>\n",
              "      <td>U dun say so early hor... U c already then say...</td>\n",
              "    </tr>\n",
              "    <tr>\n",
              "      <th>4</th>\n",
              "      <td>ham</td>\n",
              "      <td>Nah I don't think he goes to usf, he lives aro...</td>\n",
              "    </tr>\n",
              "  </tbody>\n",
              "</table>\n",
              "</div>"
            ],
            "text/plain": [
              "  Category                                            Message\n",
              "0      ham  Go until jurong point, crazy.. Available only ...\n",
              "1      ham                      Ok lar... Joking wif u oni...\n",
              "2     spam  Free entry in 2 a wkly comp to win FA Cup fina...\n",
              "3      ham  U dun say so early hor... U c already then say...\n",
              "4      ham  Nah I don't think he goes to usf, he lives aro..."
            ]
          },
          "metadata": {},
          "execution_count": 26
        }
      ]
    },
    {
      "cell_type": "markdown",
      "source": [
        "Label Encoding:"
      ],
      "metadata": {
        "id": "cOyolX0rS-_F"
      }
    },
    {
      "cell_type": "code",
      "source": [
        "mail_data.loc[mail_data['Category'] == 'spam', 'Category'] = 0\n",
        "mail_data.loc[mail_data['Category'] == 'ham', 'Category'] = 1"
      ],
      "metadata": {
        "id": "vuK_zCiYNJba"
      },
      "execution_count": 27,
      "outputs": []
    },
    {
      "cell_type": "markdown",
      "source": [
        "Spam -> 0 &\n",
        "Ham -> 1"
      ],
      "metadata": {
        "id": "EN2j1A9bSzZR"
      }
    },
    {
      "cell_type": "code",
      "source": [
        "x = mail_data['Message']\n",
        "y = mail_data['Category']"
      ],
      "metadata": {
        "id": "_czn2lFrSHMt"
      },
      "execution_count": 28,
      "outputs": []
    },
    {
      "cell_type": "code",
      "source": [
        "print(x)\n",
        "print(y)"
      ],
      "metadata": {
        "id": "pzEr6VMKTqdV",
        "outputId": "adcc1114-f30a-4faa-ff92-ab5fd92701af",
        "colab": {
          "base_uri": "https://localhost:8080/"
        }
      },
      "execution_count": 29,
      "outputs": [
        {
          "output_type": "stream",
          "name": "stdout",
          "text": [
            "0       Go until jurong point, crazy.. Available only ...\n",
            "1                           Ok lar... Joking wif u oni...\n",
            "2       Free entry in 2 a wkly comp to win FA Cup fina...\n",
            "3       U dun say so early hor... U c already then say...\n",
            "4       Nah I don't think he goes to usf, he lives aro...\n",
            "                              ...                        \n",
            "5567    This is the 2nd time we have tried 2 contact u...\n",
            "5568                 Will ü b going to esplanade fr home?\n",
            "5569    Pity, * was in mood for that. So...any other s...\n",
            "5570    The guy did some bitching but I acted like i'd...\n",
            "5571                           Rofl. Its true to its name\n",
            "Name: Message, Length: 5572, dtype: object\n",
            "0       1\n",
            "1       1\n",
            "2       0\n",
            "3       1\n",
            "4       1\n",
            "       ..\n",
            "5567    0\n",
            "5568    1\n",
            "5569    1\n",
            "5570    1\n",
            "5571    1\n",
            "Name: Category, Length: 5572, dtype: object\n"
          ]
        }
      ]
    },
    {
      "cell_type": "markdown",
      "source": [
        "Train Test Split"
      ],
      "metadata": {
        "id": "MQ8A52bVU-wN"
      }
    },
    {
      "cell_type": "code",
      "source": [
        "x_train, x_test, y_train, y_test = train_test_split(x, y, test_size = 0.2, random_state = 1)\n",
        "x_test"
      ],
      "metadata": {
        "colab": {
          "base_uri": "https://localhost:8080/"
        },
        "id": "yVTwdVD-T5mI",
        "outputId": "2547511d-437d-4ce1-ffd5-b43da352ae23"
      },
      "execution_count": 30,
      "outputs": [
        {
          "output_type": "execute_result",
          "data": {
            "text/plain": [
              "1078                         Yep, by the pretty sculpture\n",
              "4028        Yes, princess. Are you going to make me moan?\n",
              "958                            Welp apparently he retired\n",
              "4642                                              Havent.\n",
              "4674    I forgot 2 ask ü all smth.. There's a card on ...\n",
              "                              ...                        \n",
              "324     That would be great. We'll be at the Guild. Co...\n",
              "1163    Free entry in 2 a wkly comp to win FA Cup fina...\n",
              "86      For real when u getting on yo? I only need 2 m...\n",
              "4214                     I attended but nothing is there.\n",
              "90      Yeah do! Don‘t stand to close tho- you‘ll catc...\n",
              "Name: Message, Length: 1115, dtype: object"
            ]
          },
          "metadata": {},
          "execution_count": 30
        }
      ]
    },
    {
      "cell_type": "markdown",
      "source": [
        "Feature Extraction:"
      ],
      "metadata": {
        "id": "utB5Q0d1WhU0"
      }
    },
    {
      "cell_type": "code",
      "source": [
        "# Converts the text into numerical values for machine  to understand:\n",
        "# f = sum(fword)\n",
        "# fword = TF * IDF\n",
        "# TF = (no. of repeated words in the sentence) / (total words in the sentence)\n",
        "# IDF = log((total no. of sentences) / (no.of sentences having that word))\n",
        "\n",
        "feature_extraction = TfidfVectorizer(min_df= 1, stop_words='english', lowercase='True')\n",
        "x_train_features = feature_extraction.fit_transform(x_train)\n",
        "x_test_features = feature_extraction.transform(x_test)\n",
        "\n",
        "# Convert y into integers:\n",
        "y_train = y_train.astype('int')\n",
        "y_test = y_test.astype('int')"
      ],
      "metadata": {
        "id": "XQB3w0iVUuCm"
      },
      "execution_count": 31,
      "outputs": []
    },
    {
      "cell_type": "code",
      "source": [
        "print(x_test_features)"
      ],
      "metadata": {
        "id": "_UOaRJcscJdR",
        "colab": {
          "base_uri": "https://localhost:8080/"
        },
        "outputId": "dc643025-630a-40f2-c0b4-2d479930d5e8"
      },
      "execution_count": 32,
      "outputs": [
        {
          "output_type": "stream",
          "name": "stdout",
          "text": [
            "  (0, 7406)\t0.7202901083692191\n",
            "  (0, 5207)\t0.693672948719682\n",
            "  (1, 7408)\t0.39146814311442063\n",
            "  (1, 5220)\t0.4705918182872853\n",
            "  (1, 4400)\t0.5934443291757167\n",
            "  (1, 4191)\t0.3895427356578373\n",
            "  (1, 3071)\t0.3483910428713775\n",
            "  (2, 7181)\t0.7357795587192053\n",
            "  (2, 994)\t0.6772211167491541\n",
            "  (3, 3259)\t1.0\n",
            "  (4, 7336)\t0.3056500641731669\n",
            "  (4, 7100)\t0.18546351525534188\n",
            "  (4, 6030)\t0.5868928485020234\n",
            "  (4, 5925)\t0.3163109675928492\n",
            "  (4, 5196)\t0.33058431450158204\n",
            "  (4, 3951)\t0.2762463598251023\n",
            "  (4, 2854)\t0.2623110272820492\n",
            "  (4, 2093)\t0.19907660636915728\n",
            "  (4, 1604)\t0.2934464242510117\n",
            "  (4, 1067)\t0.2180322556038374\n",
            "  (5, 7120)\t0.41930198660651424\n",
            "  (5, 7095)\t0.47776118013894237\n",
            "  (5, 6602)\t0.4818760834807631\n",
            "  (5, 4743)\t0.33583035252339755\n",
            "  (5, 3101)\t0.3500213296091081\n",
            "  :\t:\n",
            "  (1111, 2886)\t0.11453235557068618\n",
            "  (1111, 2761)\t0.18749587684632552\n",
            "  (1111, 2652)\t0.4776476584652413\n",
            "  (1111, 2540)\t0.36360411501974377\n",
            "  (1111, 2067)\t0.2044709693034356\n",
            "  (1111, 1873)\t0.19469034463818594\n",
            "  (1111, 1002)\t0.1695641172846675\n",
            "  (1111, 692)\t0.22770529650512397\n",
            "  (1111, 354)\t0.23882382923262066\n",
            "  (1111, 346)\t0.22770529650512397\n",
            "  (1111, 70)\t0.23882382923262066\n",
            "  (1112, 7416)\t0.35668207768327437\n",
            "  (1112, 6940)\t0.4013881537648428\n",
            "  (1112, 6634)\t0.41288735388494413\n",
            "  (1112, 5401)\t0.34019679210398324\n",
            "  (1112, 4573)\t0.2612062549945248\n",
            "  (1112, 3662)\t0.4990767545934978\n",
            "  (1112, 3025)\t0.32886061864716865\n",
            "  (1114, 7397)\t0.3194962937300205\n",
            "  (1114, 6607)\t0.42274337683139135\n",
            "  (1114, 6194)\t0.4475220509477496\n",
            "  (1114, 4035)\t0.2502028994570357\n",
            "  (1114, 2353)\t0.2851630408099277\n",
            "  (1114, 1805)\t0.4091066884243912\n",
            "  (1114, 1641)\t0.45568238532913335\n"
          ]
        }
      ]
    },
    {
      "cell_type": "markdown",
      "source": [
        "Training the Model:\n"
      ],
      "metadata": {
        "id": "BvaVTQUmddJm"
      }
    },
    {
      "cell_type": "code",
      "source": [
        "model = LogisticRegression()\n",
        "model.fit(x_train_features, y_train)"
      ],
      "metadata": {
        "colab": {
          "base_uri": "https://localhost:8080/"
        },
        "id": "CB9H-NSacj-a",
        "outputId": "5910f23d-e17e-40e6-be8b-35304c520a94"
      },
      "execution_count": 33,
      "outputs": [
        {
          "output_type": "execute_result",
          "data": {
            "text/plain": [
              "LogisticRegression()"
            ]
          },
          "metadata": {},
          "execution_count": 33
        }
      ]
    },
    {
      "cell_type": "code",
      "source": [
        "model.score(x_test_features, y_test)"
      ],
      "metadata": {
        "colab": {
          "base_uri": "https://localhost:8080/"
        },
        "id": "tAOSscTJdrfy",
        "outputId": "a90e475b-cbf1-4229-c43b-dad3cbb28b03"
      },
      "execution_count": 34,
      "outputs": [
        {
          "output_type": "execute_result",
          "data": {
            "text/plain": [
              "0.9704035874439462"
            ]
          },
          "metadata": {},
          "execution_count": 34
        }
      ]
    },
    {
      "cell_type": "markdown",
      "source": [
        "Check for Underfitting and Overfitting"
      ],
      "metadata": {
        "id": "P3gYRsNghZNf"
      }
    },
    {
      "cell_type": "code",
      "source": [
        "# To get an idea about overfitting (High test error and low train error) and \n",
        "#underfitting (high training and testing error)\n",
        "\n",
        "# Prediction on training data:\n",
        "y_train_pred = model.predict(x_train_features)\n",
        "accuracy_train_data = accuracy_score(y_train, y_train_pred)"
      ],
      "metadata": {
        "id": "t-8cmuf3eYtk"
      },
      "execution_count": 35,
      "outputs": []
    },
    {
      "cell_type": "code",
      "source": [
        "print(\"Accuracy on training data = \",accuracy_train_data)"
      ],
      "metadata": {
        "colab": {
          "base_uri": "https://localhost:8080/"
        },
        "id": "9sOVCYL5gfXI",
        "outputId": "7e5b8431-83e0-4360-ab51-80a4c5a8aff0"
      },
      "execution_count": 36,
      "outputs": [
        {
          "output_type": "stream",
          "name": "stdout",
          "text": [
            "Accuracy on training data =  0.9681400044873233\n"
          ]
        }
      ]
    },
    {
      "cell_type": "code",
      "source": [
        "# Prediction on test data:\n",
        "y_test_pred = model.predict(x_test_features)\n",
        "accuracy_test_data = accuracy_score(y_test, y_test_pred)\n",
        "\n",
        "print(\"Accuracy on test data = \",accuracy_test_data)"
      ],
      "metadata": {
        "colab": {
          "base_uri": "https://localhost:8080/"
        },
        "id": "tf1f6gNpgncv",
        "outputId": "b231eff3-3af7-4fe1-f090-224300427ed7"
      },
      "execution_count": 37,
      "outputs": [
        {
          "output_type": "stream",
          "name": "stdout",
          "text": [
            "Accuracy on test data =  0.9704035874439462\n"
          ]
        }
      ]
    },
    {
      "cell_type": "markdown",
      "source": [
        "Buidling a Pridective System:"
      ],
      "metadata": {
        "id": "1hw49O4PhpFh"
      }
    },
    {
      "cell_type": "code",
      "source": [
        "input_mail = [input(\"Enter the mail to be tested: \")]\n",
        "input_mail_feature = feature_extraction.transform(input_mail)\n",
        "\n",
        "output_mail = \"SPAM\" if model.predict(input_mail_feature) == 0 else \"HAM\"\n",
        "print(f\"Its' a {output_mail} mail.\")"
      ],
      "metadata": {
        "colab": {
          "base_uri": "https://localhost:8080/"
        },
        "id": "5GEARjsng8Hm",
        "outputId": "f9e0c52f-80a0-4f2e-ed74-2483815e8b79"
      },
      "execution_count": 45,
      "outputs": [
        {
          "output_type": "stream",
          "name": "stdout",
          "text": [
            "Enter the mail to be tested: URGENT! You have won a 1 week FREE membership in our £100,000 Prize Jackpot! Txt the word: CLAIM to No: 81010 T&C www.dbuk.net LCCLTD POBOX 4403LDNW1A7RW18\n",
            "Its' a SPAM mail.\n"
          ]
        }
      ]
    }
  ]
}